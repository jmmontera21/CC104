{
 "cells": [
  {
   "cell_type": "markdown",
   "metadata": {},
   "source": [
    "<left><font size = 4 color = 'red'>Name : John Marlon V. Montera : BSIT - 2A</font></left>"
   ]
  },
  {
   "cell_type": "markdown",
   "metadata": {},
   "source": [
    "# <center><font size = 6 color = 'brown'>A Bite of Python: An Introductory Course to Computer Programming using Python</font></center>"
   ]
  },
  {
   "cell_type": "markdown",
   "metadata": {},
   "source": [
    "### <font color = 'blue'>Variable and Printing Output</font>"
   ]
  },
  {
   "cell_type": "markdown",
   "metadata": {},
   "source": [
    "To create and use a variable in Python, simply assign a value to it. The data type of the variable is based on its current value. In the following sample codes, we created variable <i>x</i> with string value <i>\"Welcome to Python\"</i>. We use the <i><b>print()</b></i> function to display the value of variable <i>x</i> in the console. The <i><b>type()</b></i> function is used to determine the data type of variable <i>x</i>.\n",
    "\n",
    "Python is dynamically type programming language. In the succeeding line of codes, we assigned an integer value to variable <i>x</i>. Now, the data type of variable <i>x</i> was changed from string to integer.\n",
    "\n",
    "The ***print()*** function by default automatically create a new line after displaying a string. You can use the ***end*** parameter of the print () function and assign a character that you want to be printed after the displaying a string. You can use <i><b>comma (,)</b></i> in the <i>print()</i> function to concatenate string with the value of variable. Using comma to concatenate string with <i>print()</i> function automatically append space. You can create comment in Python using <i><b>#</b></i>."
   ]
  },
  {
   "cell_type": "markdown",
   "metadata": {},
   "source": [
    "### <font color = 'blue'>Data Types</font>\n",
    "\n",
    "**int** (123, 1000)<br> \n",
    "**float** (1.75, 1000.580)<br>\n",
    "**string** (\"Python\", 'Anaconda', \"500\")<br>\n",
    "**boolean** (True, False)"
   ]
  },
  {
   "cell_type": "markdown",
   "metadata": {},
   "source": [
    "### <font color = 'blue'>Input, Arithmetic Expression, and Data Type Conversion Function</font>"
   ]
  },
  {
   "cell_type": "markdown",
   "metadata": {},
   "source": [
    "The <i><b>input()</b></i> function is used to accept input from the console. The <i>input()</i> return a string value."
   ]
  },
  {
   "cell_type": "markdown",
   "metadata": {},
   "source": [
    "You can use the <b><i>eval()</i></b> function to evaluation the value and convert to appropriate data type."
   ]
  },
  {
   "cell_type": "markdown",
   "metadata": {},
   "source": [
    "You can also use <b><i>int()</i></b> function to convert the value to integer, <b><i>str()</i></b> to string, and <b><i>float()</b></i> to convert to real number value."
   ]
  },
  {
   "cell_type": "markdown",
   "metadata": {},
   "source": [
    "### <font color = 'blue'>Types of Operators</font>\n",
    "* **Arithmetic Operators** - use for computation\n",
    "* **Assignment Operators** - use to assign values to variables\n",
    "* **Relational Operators** - use for comparison\n",
    "* **Logical Operators** - use to combine conditions"
   ]
  },
  {
   "cell_type": "markdown",
   "metadata": {},
   "source": [
    "### <font color = 'blue'>Operator Precedence</font>\n",
    "\n",
    "Evaluate the operators in an expression on the following order:<br><br>\n",
    "1. Arithmetic Operators<br>\n",
    "2. Relational Operators<br>\n",
    "3. Logical Operators<br>"
   ]
  },
  {
   "cell_type": "markdown",
   "metadata": {},
   "source": [
    "The following are the arithmetic operators in Python: \n",
    "\n",
    "\\+ Addition<br>\n",
    "\\- Subtraction<br>\n",
    "\\* Multiplication<br>\n",
    "\\/ Division<br>\n",
    "\\% Modulus Division (remainder)<br>\n",
    "\\** Exponentiation<br>\n",
    "\\// Floor division (integer division)"
   ]
  },
  {
   "cell_type": "markdown",
   "metadata": {},
   "source": [
    "### <font color = 'blue'>Arithmetic Operator Precedence</font>"
   ]
  },
  {
   "cell_type": "markdown",
   "metadata": {},
   "source": [
    "Evaluate from left to right, then evaluate on the following order:<br>\n",
    "\n",
    "\\( )<br>\n",
    "\\* / % ** //<br>\n",
    "\\+ -"
   ]
  },
  {
   "cell_type": "code",
   "execution_count": 3,
   "metadata": {},
   "outputs": [
    {
     "name": "stdout",
     "output_type": "stream",
     "text": [
      "30\n"
     ]
    }
   ],
   "source": [
    "print(5+5*5)"
   ]
  },
  {
   "cell_type": "code",
   "execution_count": 4,
   "metadata": {},
   "outputs": [
    {
     "name": "stdout",
     "output_type": "stream",
     "text": [
      "195.0\n"
     ]
    }
   ],
   "source": [
    "print(100 + 20 * 10 / 2 - 5)"
   ]
  },
  {
   "cell_type": "code",
   "execution_count": 5,
   "metadata": {},
   "outputs": [
    {
     "name": "stdout",
     "output_type": "stream",
     "text": [
      "77.5\n"
     ]
    }
   ],
   "source": [
    "print(85 - (12 + 3) + 23 % 10 * 5 / 2 )"
   ]
  },
  {
   "cell_type": "code",
   "execution_count": 6,
   "metadata": {},
   "outputs": [
    {
     "name": "stdout",
     "output_type": "stream",
     "text": [
      "26\n"
     ]
    }
   ],
   "source": [
    "print(5 + 5**3 // 10 * 3 - 15)"
   ]
  },
  {
   "cell_type": "markdown",
   "metadata": {},
   "source": [
    "### <font color = 'blue'>Assignment Operators</font>\n",
    "\n",
    "|Operator   |Example   |Same As      |\n",
    "|:----------|:--------:|------------:|\n",
    "|=          | x = 10   | x = 10      |\n",
    "|+=         | x += 10  | x = x + 10  |\n",
    "|-=         | x -= 10  | x = x - 10  |\n",
    "|*=         | x \\*= 10 | x = x \\* 10 |\n",
    "|/=         | x /= 10  | x = x / 10  |\n"
   ]
  },
  {
   "cell_type": "code",
   "execution_count": null,
   "metadata": {},
   "outputs": [],
   "source": [
    "x = 10\n",
    "print(\"The value of variable x is\", x)"
   ]
  },
  {
   "cell_type": "code",
   "execution_count": null,
   "metadata": {},
   "outputs": [],
   "source": [
    "x = 10\n",
    "x = x + 10\n",
    "print(\"The value of variable x is\", x)"
   ]
  },
  {
   "cell_type": "code",
   "execution_count": null,
   "metadata": {},
   "outputs": [],
   "source": [
    "x = 10\n",
    "x += 10\n",
    "print(\"The value of variable x is\", x)"
   ]
  },
  {
   "cell_type": "markdown",
   "metadata": {},
   "source": [
    "### <font color = 'green'>Test yourself</font>"
   ]
  },
  {
   "cell_type": "code",
   "execution_count": 4,
   "metadata": {},
   "outputs": [
    {
     "name": "stdout",
     "output_type": "stream",
     "text": [
      "\t\n",
      "\t\t===============================\n",
      "\t\t| Money Denomination |\n",
      "\t\t===============================\n",
      "\t\n",
      "Enter the amount of money: 14789.50\n",
      "You have  14.0 in thousand peso bill\n",
      "You have  1.0 in five hundred peso bill\n",
      "You have  1.0 in two hundred peso bill\n",
      "You have  0.0 in one hundred peso bill\n",
      "You have  1.0 in fifty peso bill\n",
      "You have  1.0 in twenty peso bill\n",
      "You have  1.0 in ten peso coin\n",
      "You have  1.0 in five peso coin\n",
      "You have  4.0 in one peso coin\n",
      "You have  2.0 in twenty centavo coin\n"
     ]
    }
   ],
   "source": [
    "# Write a program that will accept input for the number of 25 centavos, \n",
    "# 1 peso, 5 pesos, 10 pesos, 20 pesos, 50 pesos, 100 pesos, 200 pesos\n",
    "# 500 pesos, and 1000 pesos\n",
    "# Compute and display the total amount of money\n",
    "\n",
    "print(\"\\t\")\n",
    "print(\"\\t\\t===============================\")\n",
    "print(\"\\t\\t| Money Denomination |\")\n",
    "print(\"\\t\\t===============================\")\n",
    "print(\"\\t\")\n",
    "\n",
    "amnt_money = eval(input(\"Enter the amount of money: \"))\n",
    "\n",
    "one_a = amnt_money % 1000\n",
    "a_one = amnt_money // 1000\n",
    "\n",
    "five_b = one_a % 500\n",
    "b_five = one_a // 500\n",
    "\n",
    "two_c = five_b % 200\n",
    "c_two = five_b // 200\n",
    "\n",
    "one_d = two_c % 100\n",
    "d_one = two_c // 100\n",
    "\n",
    "fifty_e = one_d % 50\n",
    "e_fifty = one_d // 50\n",
    "\n",
    "twenty_f = fifty_e % 20\n",
    "f_twenty = fifty_e // 20\n",
    "\n",
    "ten_g = twenty_f % 10\n",
    "g_ten = twenty_f // 10\n",
    "\n",
    "five_h = ten_g % 5\n",
    "h_five = ten_g // 5\n",
    "\n",
    "one_i = five_h % 1\n",
    "i_one = five_h // 1\n",
    "\n",
    "twnty_five = one_i % .25\n",
    "five_twnty = one_i // .25\n",
    "\n",
    "print(\"You have \",a_one,\"in thousand peso bill\")\n",
    "print(\"You have \",b_five,\"in five hundred peso bill\")\n",
    "print(\"You have \",c_two,\"in two hundred peso bill\")\n",
    "print(\"You have \",d_one,\"in one hundred peso bill\")\n",
    "print(\"You have \",e_fifty,\"in fifty peso bill\")\n",
    "print(\"You have \",f_twenty,\"in twenty peso bill\")\n",
    "print(\"You have \",g_ten,\"in ten peso coin\")\n",
    "print(\"You have \",h_five,\"in five peso coin\")\n",
    "print(\"You have \",i_one,\"in one peso coin\")\n",
    "print(\"You have \",five_twnty,\"in twenty centavo coin\")"
   ]
  },
  {
   "cell_type": "markdown",
   "metadata": {},
   "source": [
    "### <font color = 'blue'>Relational Operators</font>"
   ]
  },
  {
   "cell_type": "markdown",
   "metadata": {},
   "source": [
    "\\> greater than<br>\n",
    "\\>= greater than or equal<br>\n",
    "\\< less than<br>\n",
    "\\<= less than or equal<br>\n",
    "\\== equal<br>\n",
    "\\!= not equal"
   ]
  },
  {
   "cell_type": "markdown",
   "metadata": {},
   "source": [
    "### <font color = 'blue'>Logical Operators</font>"
   ]
  },
  {
   "cell_type": "markdown",
   "metadata": {},
   "source": [
    "|Operator     |Description                                        |\n",
    "|:------------|:--------------------------------------------------|\n",
    "|**and**      | Returns True if **both** statements are true      |\n",
    "|**or**       | Returns True if **any** of the statements is true | \n",
    "|**not**      | **Reverse** the result                            |\n"
   ]
  },
  {
   "cell_type": "markdown",
   "metadata": {},
   "source": [
    "### and Logical Operator"
   ]
  },
  {
   "cell_type": "markdown",
   "metadata": {},
   "source": [
    "|Statement       |Result      |\n",
    "|:---------------|:-----------|\n",
    "|False **and** False | False      |\n",
    "|True **and** False  | False      | \n",
    "|False **and** True  | False      |\n",
    "|True **and** True  | True       |"
   ]
  },
  {
   "cell_type": "code",
   "execution_count": 11,
   "metadata": {},
   "outputs": [
    {
     "name": "stdout",
     "output_type": "stream",
     "text": [
      "True\n"
     ]
    }
   ],
   "source": [
    "print(5*5 >= 25 and 13%10 == 9/3)"
   ]
  },
  {
   "cell_type": "code",
   "execution_count": 12,
   "metadata": {},
   "outputs": [
    {
     "name": "stdout",
     "output_type": "stream",
     "text": [
      "False\n"
     ]
    }
   ],
   "source": [
    "print(10 > 100/10 and 50 != 5**2)"
   ]
  },
  {
   "cell_type": "markdown",
   "metadata": {},
   "source": [
    "### or Logical Operator"
   ]
  },
  {
   "cell_type": "markdown",
   "metadata": {},
   "source": [
    "|Statement           |Result      |\n",
    "|:-------------------|:-----------|\n",
    "|False **or** False  | False      |\n",
    "|True **or** False   | True       | \n",
    "|False **or** True   | True       |\n",
    "|True **or** True    | True       |"
   ]
  },
  {
   "cell_type": "code",
   "execution_count": 13,
   "metadata": {},
   "outputs": [
    {
     "name": "stdout",
     "output_type": "stream",
     "text": [
      "True\n"
     ]
    }
   ],
   "source": [
    "print(10 >= 50 or 8 % 5 < 8 )"
   ]
  },
  {
   "cell_type": "code",
   "execution_count": 14,
   "metadata": {},
   "outputs": [
    {
     "name": "stdout",
     "output_type": "stream",
     "text": [
      "False\n"
     ]
    }
   ],
   "source": [
    "print(30 != 5+5*5 or 25 == 10+5)"
   ]
  },
  {
   "cell_type": "markdown",
   "metadata": {},
   "source": [
    "### not Logical Operator"
   ]
  },
  {
   "cell_type": "markdown",
   "metadata": {},
   "source": [
    "|Statement  |Result     |\n",
    "|:----------|:----------|\n",
    "|**not** False  | True      |\n",
    "|**not** True   | False     | "
   ]
  },
  {
   "cell_type": "code",
   "execution_count": 15,
   "metadata": {},
   "outputs": [
    {
     "name": "stdout",
     "output_type": "stream",
     "text": [
      "True\n"
     ]
    }
   ],
   "source": [
    "print(not 6 > 3*3)"
   ]
  },
  {
   "cell_type": "code",
   "execution_count": 16,
   "metadata": {},
   "outputs": [
    {
     "name": "stdout",
     "output_type": "stream",
     "text": [
      "False\n"
     ]
    }
   ],
   "source": [
    "print(not 50 >= 5*5+10)"
   ]
  },
  {
   "cell_type": "markdown",
   "metadata": {},
   "source": [
    "### <font color = 'blue'>Selection Statement</font>"
   ]
  },
  {
   "cell_type": "markdown",
   "metadata": {},
   "source": [
    "Selection statement is used to select which statement or block of statements will be executed based on the result of the selection statement condition. In Python, you can use <b><i>if else</b></i> statement to test single condition and execute block of statements in the <b><i>if</b></i> part if the condition is <b><i>True</b></i>; otherwise block of statements in the <b><i>else</b></i> part will be executed. The <b><i>else</b></i> part is optional, you will use it if you want to do something if the condition is <b><i>False</b></i>.\n",
    "\n",
    "The indentation of codes is very important in Python. It indicate the block or group of related statements that will be executed at the same level. In the following code sample, the indented <b><i>print ()</b></i> statements under <b><i>if</b></i> will be executed only if the condition is <b><i>True</b></i>. The <b><i>print ()</b></i> statement indented in the <b><i>else</b></i> part will be executed if the condition is <b><i>False</b></i>. The last <b><i>print ()</b></i> statement will be executed regarless of the result of the <b><i>if else</b></i> condition since it is same level with the <b><i>if else</b></i> statement. "
   ]
  },
  {
   "cell_type": "markdown",
   "metadata": {},
   "source": [
    "### <font color = 'green'>Test yourself</font>"
   ]
  },
  {
   "cell_type": "code",
   "execution_count": 24,
   "metadata": {},
   "outputs": [
    {
     "name": "stdout",
     "output_type": "stream",
     "text": [
      "\t\t\n",
      "\t\t ---Grading System---\n",
      "\n",
      "\n",
      "Please enter your Prelim grades: 75\n",
      "Please enter your Midtem grades: 74\n",
      "Please enter your Semi-Final grades: 78\n",
      "Please enter your Final grades: 79\n",
      "Please enter your Quiz grades: 80\n",
      "Please enter your Project grades: 82\n",
      "Your final grade is 78.0\n",
      "\n",
      "\n",
      "Congratulations! You passed the course with a final grade of 75 and above\n"
     ]
    }
   ],
   "source": [
    "# Create a program that will accept Prelim, Midterm, Semi-Final, Final, Quiz, and Project Grade. \n",
    "# Compute the final grade: FG = (prelime x 15%) + (midterm x 15%) + (semifinal x 15%) + (final x 15%) + (quiz x 25%) + (project x 15%)\n",
    "# Display a remark Congratulations! You passed the course if final grade is 75 and above; otherwise display Sorry, you failed\n",
    "\n",
    "print(\"\\t\\t\")\n",
    "print(\"\\t\\t ---Grading System---\")\n",
    "print(\"\\n\")\n",
    "\n",
    "pre_grades = int(input(\"Please enter your Prelim grades: \"))\n",
    "md_grades = int(input(\"Please enter your Midtem grades: \"))\n",
    "sm_grades = int(input(\"Please enter your Semi-Final grades: \"))\n",
    "fnl_grades = int(input(\"Please enter your Final grades: \"))\n",
    "qz_grades = int(input(\"Please enter your Quiz grades: \"))\n",
    "pro_grades = int(input(\"Please enter your Project grades: \"))\n",
    "final = ((pre_grades) + (md_grades) + (sm_grades) + (fnl_grades) + (qz_grades) + (pro_grades)) / 6\n",
    "print(\"Your final grade is\",final)\n",
    "print(\"\\n\")\n",
    "\n",
    "if final >= 75:\n",
    "    print(\"Congratulations! You passed the course with a final grade of 75 and above\")\n",
    "else: \n",
    "    print(\"Sorry, you failed the course with a final grade of below 75\")\n"
   ]
  },
  {
   "cell_type": "markdown",
   "metadata": {},
   "source": [
    "The <b><i>if elif</b></i> statement is used for testing multiple condition. The <b><i>in</b></i> operator checks if the value of the variable is in the list of values. The <b><i>range()</b></i> function is use to specify range of values. You can also use logical operators <b><i>and</b></i>, <b><i>or</b></i>, and <b><i>not</b></i> in creating condition."
   ]
  },
  {
   "cell_type": "markdown",
   "metadata": {},
   "source": [
    "### <font color = 'blue'>Loop Statement</font>"
   ]
  },
  {
   "cell_type": "markdown",
   "metadata": {},
   "source": [
    "The <b><i>for in</b></i> loop statement is used if specific number of loop is known. In the following example, the <b><i>range ()</b></i> function is used to loop five times from integer value 0 to 4. Every loop, the current value is stored to a variable."
   ]
  },
  {
   "cell_type": "code",
   "execution_count": 3,
   "metadata": {},
   "outputs": [
    {
     "name": "stdout",
     "output_type": "stream",
     "text": [
      "Some text \n",
      "Some text \n",
      "Some text \n",
      "Some text \n",
      "Some text \n"
     ]
    }
   ],
   "source": [
    "for i in range(5):\n",
    "    print(\"Some text \")"
   ]
  },
  {
   "cell_type": "code",
   "execution_count": 23,
   "metadata": {},
   "outputs": [
    {
     "name": "stdout",
     "output_type": "stream",
     "text": [
      "The value of variable is 0\n",
      "The value of variable is 1\n",
      "The value of variable is 2\n",
      "The value of variable is 3\n",
      "The value of variable is 4\n"
     ]
    }
   ],
   "source": [
    "for x in range (5):\n",
    "    print(\"The value of variable is\",x)"
   ]
  },
  {
   "cell_type": "code",
   "execution_count": 24,
   "metadata": {},
   "outputs": [
    {
     "name": "stdout",
     "output_type": "stream",
     "text": [
      "1\n",
      "3\n",
      "5\n",
      "7\n",
      "9\n"
     ]
    }
   ],
   "source": [
    "for x in range(1,10,2):\n",
    "    print (x)"
   ]
  },
  {
   "cell_type": "markdown",
   "metadata": {},
   "source": [
    "In the following example we pass value to the <i>start</i> and <i>stop</i> parameters of the <b><i>range()</b></i> function in order for the <b><i>for in</b></i> loop to loop five times from integer value 1 to 5."
   ]
  },
  {
   "cell_type": "markdown",
   "metadata": {},
   "source": [
    "### <font color = 'green'>Test yourself</font>"
   ]
  },
  {
   "cell_type": "code",
   "execution_count": 26,
   "metadata": {},
   "outputs": [
    {
     "name": "stdout",
     "output_type": "stream",
     "text": [
      "\t\t ***************\n",
      "\t\t Sum and Average\n",
      "\t\t ***************\n",
      "\t\n",
      "Enter a number: 3\n",
      "Enter a number: 4\n",
      "Enter a number: 5\n",
      "Enter a number: 6\n",
      "Enter a number: 7\n",
      "\n",
      "The summation of all the numbers you have entered is 25\n",
      "The average of all the numbers you have entered is 5.0\n"
     ]
    }
   ],
   "source": [
    "# Accept 5 integer numbers\n",
    "# Compute Sum and Average\n",
    "\n",
    "print(\"\\t\\t ***************\")\n",
    "print(\"\\t\\t Sum and Average\")\n",
    "print(\"\\t\\t ***************\")\n",
    "print(\"\\t\")\n",
    "summation = 0\n",
    "for num in range(5):\n",
    "    integer_num = eval(input(\"Enter a number: \"))\n",
    "    summation = summation + integer_num\n",
    "    \n",
    "print()\n",
    "print(\"The summation of all the numbers you have entered is\", summation)\n",
    "print(\"The average of all the numbers you have entered is\", summation/5)\n"
   ]
  },
  {
   "cell_type": "code",
   "execution_count": 3,
   "metadata": {},
   "outputs": [
    {
     "name": "stdout",
     "output_type": "stream",
     "text": [
      "\t\t ***********************\n",
      "\t\t Factorial of the Number\n",
      "\t\t ***********************\n",
      "\t\n",
      "Enter a number: 4\n",
      "factorial of  4  : 24\n"
     ]
    }
   ],
   "source": [
    "# Accept an integer number.\n",
    "# Compute and display the factorial of the number.\n",
    "\n",
    "print(\"\\t\\t ***********************\")\n",
    "print(\"\\t\\t Factorial of the Number\")\n",
    "print(\"\\t\\t ***********************\")\n",
    "print(\"\\t\")\n",
    "def factorial(x):\n",
    "    if x == 1:\n",
    "        return x\n",
    "    if x == 0:\n",
    "        return 1\n",
    "    else:\n",
    "        return x*factorial(x-1)\n",
    "x = eval(input(\"Enter a number: \"))\n",
    "print(\"factorial of \",x,\" : \",end=\"\")\n",
    "print(factorial(x))"
   ]
  },
  {
   "cell_type": "code",
   "execution_count": 11,
   "metadata": {},
   "outputs": [
    {
     "name": "stdout",
     "output_type": "stream",
     "text": [
      "\t\t ????????????????????\n",
      "\t\t Odd and Even Numbers\n",
      "\t\t !!!!!!!!!!!!!!!!!!!!\n",
      "\t\n",
      "Please enter the number: 1\n",
      "Please enter the number: 43\n",
      "Please enter the number: 2\n",
      "Please enter the number: 5\n",
      "Please enter the number: 5\n",
      "Please enter the number: 6\n",
      "Please enter the number: 657\n",
      "Please enter the number: 453\n",
      "Please enter the number: 234\n",
      "Please enter the number: 23\n",
      "There are 3 even numbers.\n",
      "There are 7 odd numbers.\n"
     ]
    }
   ],
   "source": [
    "# Accept 10 Integer numbers.\n",
    "# Count and display how many odd and even number input.\n",
    "\n",
    "print(\"\\t\\t ????????????????????\")\n",
    "print(\"\\t\\t Odd and Even Numbers\")\n",
    "print(\"\\t\\t !!!!!!!!!!!!!!!!!!!!\")\n",
    "print(\"\\t\")\n",
    "\n",
    "even_ = 0\n",
    "odd_ = 0\n",
    "for x in range(10):\n",
    "    x = int(input(\"Please enter the number: \"))\n",
    "    if (x % 2) == 0:\n",
    "        even_ += 1\n",
    "    if (x % 2) != 0:\n",
    "        odd_ += 1\n",
    "    \n",
    "print(\"There are\",even_,\"even numbers.\")\n",
    "print(\"There are\",odd_,\"odd numbers.\")"
   ]
  },
  {
   "cell_type": "code",
   "execution_count": 18,
   "metadata": {},
   "outputs": [
    {
     "name": "stdout",
     "output_type": "stream",
     "text": [
      "\t\t ===================\n",
      "\t\t Prime number or not\n",
      "\t\t ===================\n",
      "\t\n",
      "Please enter the number: 1\n",
      "It is a prime number.\n"
     ]
    }
   ],
   "source": [
    "# Input a number and display if the number is a Prime Number or Not a Prime Number\n",
    "\n",
    "print(\"\\t\\t ===================\")\n",
    "print(\"\\t\\t Prime number or not\")\n",
    "print(\"\\t\\t ===================\")\n",
    "print(\"\\t\")\n",
    "\n",
    "prm = int(input(\"Please enter the number: \"))\n",
    "\n",
    "a_0 = int(prm % 2)\n",
    "b_1 = int(prm % 3)\n",
    "c_2 = int(prm % 4)\n",
    "d_3 = int(prm % 5)\n",
    "e_4 = int(prm % 6)\n",
    "f_5 = int(prm % 7)\n",
    "g_6 = int(prm % 8)\n",
    "h_7 = int(prm % 9)\n",
    "\n",
    "if a_0 == 2 :\n",
    "    print(\"It is not a prime number.\")\n",
    "elif b_1 == 3:\n",
    "    print(\"It is not a prime number.\")\n",
    "elif c_2 == 0:\n",
    "    print(\"It is not a prime number.\")    \n",
    "elif d_3 == 5:\n",
    "    print(\"It is not a prime number.\")\n",
    "elif e_4 == 0:\n",
    "    print(\"It is not a prime number.\")\n",
    "elif f_5 == 7:\n",
    "    print(\"It is not a prime number.\")\n",
    "elif g_6 == 0:\n",
    "    print(\"It is not a prime number.\")\n",
    "elif h_7 == 0:\n",
    "    print(\"It is not a prime number.\")\n",
    "else:\n",
    "    print(\"It is a prime number.\")\n"
   ]
  },
  {
   "cell_type": "code",
   "execution_count": 20,
   "metadata": {},
   "outputs": [
    {
     "name": "stdout",
     "output_type": "stream",
     "text": [
      "\t\t @@@@@@@@@@@@@@@@@@@@@@@\n",
      "\t\t Series of Prime Numbers\n",
      "\t\t @@@@@@@@@@@@@@@@@@@@@@@\n",
      "\t\n",
      "Enter the Minimum Range Value: 1\n",
      "Enter the Maximum Range Value: 100\n",
      "The Prime Numbers in the range are: \n",
      "1\n",
      "2\n",
      "3\n",
      "5\n",
      "7\n",
      "11\n",
      "13\n",
      "17\n",
      "19\n",
      "23\n",
      "29\n",
      "31\n",
      "37\n",
      "41\n",
      "43\n",
      "47\n",
      "53\n",
      "59\n",
      "61\n",
      "67\n",
      "71\n",
      "73\n",
      "79\n",
      "83\n",
      "89\n",
      "97\n"
     ]
    }
   ],
   "source": [
    "# Display a series of prime numbers based on user input.\n",
    "\n",
    "print(\"\\t\\t @@@@@@@@@@@@@@@@@@@@@@@\")\n",
    "print(\"\\t\\t Series of Prime Numbers\")\n",
    "print(\"\\t\\t @@@@@@@@@@@@@@@@@@@@@@@\")\n",
    "print(\"\\t\")\n",
    "a = int(input (\"Enter the Minimum Range Value: \"))  \n",
    "b = int(input (\"Enter the Maximum Range Value: \"))  \n",
    "  \n",
    "print (\"The Prime Numbers in the range are: \")  \n",
    "for num in range (a, b + 1):  \n",
    "    if num >= 1:  \n",
    "        for i in range (2, num):  \n",
    "            if (num % i) == 0:  \n",
    "                break  \n",
    "        else:  \n",
    "            print (num)"
   ]
  },
  {
   "cell_type": "code",
   "execution_count": 12,
   "metadata": {},
   "outputs": [
    {
     "name": "stdout",
     "output_type": "stream",
     "text": [
      "\t\t ~~~~~~~~~~~~~~~~\n",
      "\t\t Fibonacci Number\n",
      "\t\t ~~~~~~~~~~~~~~~~\n",
      "\t\n",
      "Enter the n value: -2\n",
      "The Fibonacci number of  -2 : Incorrect input\n",
      "None\n"
     ]
    }
   ],
   "source": [
    "# Create a program that will ask user to input the nth Fibonacci number series.\n",
    "# Compute and display the Fibonacci number based on the input\n",
    "\n",
    "print(\"\\t\\t ~~~~~~~~~~~~~~~~\")\n",
    "print(\"\\t\\t Fibonacci Number\")\n",
    "print(\"\\t\\t ~~~~~~~~~~~~~~~~\")\n",
    "print(\"\\t\")\n",
    "def Fibonacci(x):\n",
    "    if x <= 0:\n",
    "        print(\"Incorrect input\")\n",
    "    elif x == 1:\n",
    "        return 0\n",
    "    elif x == 2:\n",
    "        return 1\n",
    "    else:\n",
    "        return Fibonacci(x-1) + Fibonacci(x-2)\n",
    "x = int(input(\"Enter the n value: \"))\n",
    "print(\"The Fibonacci number of \",x,\": \",end=\"\")\n",
    "print(Fibonacci(x))"
   ]
  },
  {
   "cell_type": "markdown",
   "metadata": {},
   "source": [
    "The <b><i>while</b></i> loop is use if you want to base the iteration on conditional expression. The <b><i>while</b></i> loop will continue to loop while the condition is <i>True</i>. If the <b><i>break</b></i> statement is encountered inside the loop, it will immediate terminate the loop and will bypass the remaining statements in the loop block. The <b><i>continue</b></i> statement is use to immediately loop back and bypass the remaining statements in the loop block.\n",
    "\n",
    "In the following code sample the <b><i>while</b></i> loop condition is set to <i>True</i>. Since the loop condition is always <i>True</i> it will loop infinitely. However, we have included <i>if</i> statement in the while loop block the will execute the <i>break</i> statement to terminate the loop if the input is empty.\n"
   ]
  },
  {
   "cell_type": "markdown",
   "metadata": {},
   "source": [
    "### <font color = 'blue'>List</font>"
   ]
  },
  {
   "cell_type": "markdown",
   "metadata": {},
   "source": [
    "A list is an ordered collection. In other programming language you known it as array but with added funcionality.<br>A list is defined by assigning an open and close bracket [] to an identifier. To create a list with initial values,<br>place the value separate by a comma (,) in the open and close bracket. You can use the <b><i>len()</b></i> function to determine<br>the size of the list. "
   ]
  },
  {
   "cell_type": "code",
   "execution_count": 27,
   "metadata": {},
   "outputs": [
    {
     "name": "stdout",
     "output_type": "stream",
     "text": [
      "List : [1, 5, 80, 90] List length : 4\n"
     ]
    }
   ],
   "source": [
    "numbers = [1,5,80,90]\n",
    "print(\"List :\", numbers, \"List length :\", len(numbers))"
   ]
  },
  {
   "cell_type": "markdown",
   "metadata": {},
   "source": [
    "You can add new value at the end of list using the <b><i>append()</b></i> function. To add a value in the specific index of the list use the <b><i>insert()</b></i> function."
   ]
  },
  {
   "cell_type": "code",
   "execution_count": 28,
   "metadata": {},
   "outputs": [
    {
     "name": "stdout",
     "output_type": "stream",
     "text": [
      "List : [1, 5, 80, 90, 100] List length : 5\n"
     ]
    }
   ],
   "source": [
    "numbers.append(100)\n",
    "print(\"List :\", numbers, \"List length :\", len(numbers))"
   ]
  },
  {
   "cell_type": "code",
   "execution_count": 29,
   "metadata": {},
   "outputs": [
    {
     "name": "stdout",
     "output_type": "stream",
     "text": [
      "List : [1, 7, 5, 80, 90, 100] Length : 6\n"
     ]
    }
   ],
   "source": [
    "numbers.insert(1,7)\n",
    "print(\"List :\",numbers,\"Length :\",len(numbers))"
   ]
  },
  {
   "cell_type": "markdown",
   "metadata": {},
   "source": [
    "The following codes demonstrate how to access the content of list."
   ]
  },
  {
   "cell_type": "markdown",
   "metadata": {},
   "source": [
    "Use the <b><i>in</i></b> to determine if a specific value exist in the list."
   ]
  },
  {
   "cell_type": "code",
   "execution_count": 30,
   "metadata": {},
   "outputs": [
    {
     "name": "stdout",
     "output_type": "stream",
     "text": [
      "True\n",
      "False\n"
     ]
    }
   ],
   "source": [
    "print(1 in numbers)\n",
    "print(21 in numbers)"
   ]
  },
  {
   "cell_type": "markdown",
   "metadata": {},
   "source": [
    "Use the *index()* function to return the index of a value."
   ]
  },
  {
   "cell_type": "code",
   "execution_count": 33,
   "metadata": {},
   "outputs": [
    {
     "name": "stdout",
     "output_type": "stream",
     "text": [
      "Index of value 80 : 3\n"
     ]
    }
   ],
   "source": [
    "print(\"Index of value 80 :\", numbers.index(80))"
   ]
  },
  {
   "cell_type": "markdown",
   "metadata": {},
   "source": [
    "### <font color = 'blue'>List Comprehension Example</font>"
   ]
  },
  {
   "cell_type": "markdown",
   "metadata": {},
   "source": [
    "To delete an element use the del keyword. The pop() function delete the element and return the value. You can specify the index number of the element that you want to delete in the pop() function."
   ]
  },
  {
   "cell_type": "code",
   "execution_count": 3,
   "metadata": {},
   "outputs": [
    {
     "name": "stdout",
     "output_type": "stream",
     "text": [
      "[1, 7, 80, 90, 100]\n"
     ]
    }
   ],
   "source": [
    "del numbers[2]\n",
    "print(numbers)"
   ]
  },
  {
   "cell_type": "code",
   "execution_count": 4,
   "metadata": {},
   "outputs": [
    {
     "data": {
      "text/plain": [
       "100"
      ]
     },
     "execution_count": 4,
     "metadata": {},
     "output_type": "execute_result"
    }
   ],
   "source": [
    "numbers.pop()"
   ]
  },
  {
   "cell_type": "code",
   "execution_count": 6,
   "metadata": {},
   "outputs": [
    {
     "data": {
      "text/plain": [
       "90"
      ]
     },
     "execution_count": 6,
     "metadata": {},
     "output_type": "execute_result"
    }
   ],
   "source": [
    "numbers.pop(2)"
   ]
  },
  {
   "cell_type": "markdown",
   "metadata": {},
   "source": [
    "Use the <b><i>sort()</b></i> of the list to sort the content of the list. Use the <b><i>reverse</i></b> parameter of the <b><i>sort()</b></i> function to sort in reverse order."
   ]
  },
  {
   "cell_type": "code",
   "execution_count": 9,
   "metadata": {},
   "outputs": [
    {
     "name": "stdout",
     "output_type": "stream",
     "text": [
      "[1, 7, 90]\n"
     ]
    }
   ],
   "source": [
    "numbers.sort()\n",
    "print(numbers)"
   ]
  },
  {
   "cell_type": "code",
   "execution_count": 11,
   "metadata": {},
   "outputs": [
    {
     "name": "stdout",
     "output_type": "stream",
     "text": [
      "[90, 7, 1]\n"
     ]
    }
   ],
   "source": [
    "numbers.sort(reverse=True)\n",
    "print(numbers)"
   ]
  },
  {
   "cell_type": "markdown",
   "metadata": {},
   "source": [
    "The <b><i>for in</b></i> loop can be used to access the content of the list."
   ]
  },
  {
   "cell_type": "code",
   "execution_count": 12,
   "metadata": {},
   "outputs": [
    {
     "name": "stdout",
     "output_type": "stream",
     "text": [
      "90\n",
      "7\n",
      "1\n"
     ]
    }
   ],
   "source": [
    "# access the item of the list only.\n",
    "for number in numbers:\n",
    "    print(number)"
   ]
  },
  {
   "cell_type": "markdown",
   "metadata": {},
   "source": [
    "### <font color = 'green'>Test yourself</font>"
   ]
  },
  {
   "cell_type": "code",
   "execution_count": 14,
   "metadata": {},
   "outputs": [
    {
     "name": "stdout",
     "output_type": "stream",
     "text": [
      "Enter number for index 0 : 1\n",
      "Enter number for index 1 : 2\n",
      "Enter number for index 2 : 3\n",
      "Enter number for index 3 : 4\n",
      "Enter number for index 4 : 5\n",
      "Enter number for index 5 : 0\n",
      "\n",
      "List : [1, 2, 3, 4, 5] List length : 5\n",
      "Highest number : 5\n",
      "Lowest number : 1\n"
     ]
    }
   ],
   "source": [
    "# Accept integer number and store it to a list until user input is 0.\n",
    "# Display the content of the list and size of the list.\n",
    "# Display the highest and lowest numbers.\n",
    "\n",
    "a = 0\n",
    "num = []\n",
    "while True:\n",
    "    x = int(input(\"Enter number for index \" + str(a) + \" : \"))\n",
    "    num.append(x)\n",
    "    if x == \"\":\n",
    "        break\n",
    "    elif int(x) == 0:\n",
    "        break\n",
    "    a += 1\n",
    "num.pop()    \n",
    "print(\"\\nList :\", num, \"List length :\", len(num))\n",
    "print(\"Highest number :\", max(num))\n",
    "print(\"Lowest number :\", min(num))"
   ]
  },
  {
   "cell_type": "code",
   "execution_count": 16,
   "metadata": {},
   "outputs": [
    {
     "name": "stdout",
     "output_type": "stream",
     "text": [
      "Enter number for index 0 : 12\n",
      "Enter number for index 1 : 43\n",
      "Enter number for index 2 : 63\n",
      "Enter number for index 3 : 11\n",
      "Enter number for index 4 : 436\n",
      "Enter number for index 5 : 53\n",
      "Enter number for index 6 : 0\n",
      "\n",
      "List : [12, 43, 63, 11, 436, 53] List length : 6\n",
      "Highest number : 436\n",
      "Highest number found at index : 4\n",
      "Lowest number : 11\n",
      "Lowest number found at index : 3\n"
     ]
    }
   ],
   "source": [
    "# Accept integer number and store it to a list until user input is 0.\n",
    "# Display the content of the list and size of the list.\n",
    "# Display the highest and lowest numbers in the list and the index number it can be found.\n",
    "\n",
    "b = 0\n",
    "num = []\n",
    "while True:\n",
    "    x = int(input(\"Enter number for index \" + str(b) + \" : \"))\n",
    "    num.append(x)\n",
    "    if x == \"\":\n",
    "        break\n",
    "    elif int(x) == 0:\n",
    "        break\n",
    "    b += 1\n",
    "num.pop()    \n",
    "print(\"\\nList :\", num, \"List length :\", len(num))\n",
    "print(\"Highest number :\", max(num))\n",
    "print(\"Highest number found at index :\", num.index(max(num)))\n",
    "print(\"Lowest number :\", min(num))\n",
    "print(\"Lowest number found at index :\", num.index(min(num)))"
   ]
  },
  {
   "cell_type": "markdown",
   "metadata": {},
   "source": [
    "The <b><i>enumerate()</b></i> function is used together with <b><i>for in</b></i> loop to access both index and item in the list."
   ]
  },
  {
   "cell_type": "code",
   "execution_count": 13,
   "metadata": {},
   "outputs": [
    {
     "name": "stdout",
     "output_type": "stream",
     "text": [
      "Index 0 value : 90\n",
      "Index 1 value : 7\n",
      "Index 2 value : 1\n"
     ]
    }
   ],
   "source": [
    "# access both the index and item in the list using enumerate ()\n",
    "for x,number in enumerate(numbers):\n",
    "    print(\"Index\",x,\"value :\",number)"
   ]
  },
  {
   "cell_type": "markdown",
   "metadata": {},
   "source": [
    "You can also define list within a list (matrix) in Python."
   ]
  },
  {
   "cell_type": "code",
   "execution_count": 15,
   "metadata": {},
   "outputs": [
    {
     "name": "stdout",
     "output_type": "stream",
     "text": [
      "300\n"
     ]
    }
   ],
   "source": [
    "matrix = [[2,5,1],[100,2,300,500,1,87],[90,50,1,12]]\n",
    "print(matrix[1][2])"
   ]
  },
  {
   "cell_type": "markdown",
   "metadata": {},
   "source": [
    "The following code demonstrate how to use the <b><i>for in</b></i> loop to access each set of list in the list."
   ]
  },
  {
   "cell_type": "code",
   "execution_count": null,
   "metadata": {},
   "outputs": [],
   "source": [
    "for num in matrix:\n",
    "    print(num)"
   ]
  },
  {
   "cell_type": "markdown",
   "metadata": {},
   "source": [
    "The following code demonstrate how to use the <b><i>for in</b></i> loop to access the element on each set of list in the list."
   ]
  },
  {
   "cell_type": "code",
   "execution_count": null,
   "metadata": {},
   "outputs": [],
   "source": [
    "for x,num in enumerate(matrix):\n",
    "     for y,n in enumerate(num):\n",
    "         print(\"Set\",x,\"index\",y,\"value : \",n)\n",
    "     print(\"\\n\")"
   ]
  },
  {
   "cell_type": "markdown",
   "metadata": {},
   "source": [
    "### <font color = 'blue'>Dictionary</font>"
   ]
  },
  {
   "cell_type": "markdown",
   "metadata": {},
   "source": [
    "A dictionary is a collection which is unordered, changeable and indexed. In Python dictionaries are written with curly brackets, and they have keys and values. A dictionary is similar to a list but each element is being access by a unique key instead of an index number. The following code demonstrate how to declare a dictionary."
   ]
  },
  {
   "cell_type": "code",
   "execution_count": null,
   "metadata": {},
   "outputs": [],
   "source": [
    "grades = {\"John\" : 90, \"Jim\" : 87, \"Jel\": 85}\n",
    "print(grades)"
   ]
  },
  {
   "cell_type": "markdown",
   "metadata": {},
   "source": [
    "The following codes demonstrate how to access item in the dictionary."
   ]
  },
  {
   "cell_type": "code",
   "execution_count": null,
   "metadata": {},
   "outputs": [],
   "source": [
    "print(grades[\"Jel\"])\n",
    "print(grades.get(\"Joe\"))\n",
    "print(grades.get(\"Jim\",0)) #default value is 0"
   ]
  },
  {
   "cell_type": "code",
   "execution_count": null,
   "metadata": {},
   "outputs": [],
   "source": [
    "print(grades.get(\"Joe\",0))"
   ]
  },
  {
   "cell_type": "markdown",
   "metadata": {},
   "source": [
    "The following codes demonstrate how to modify the value of the key in the dictionary and adding new item in the dictionary."
   ]
  },
  {
   "cell_type": "code",
   "execution_count": null,
   "metadata": {},
   "outputs": [],
   "source": [
    "print(grades.keys()) #return the keys in the dictionary\n",
    "print(grades.values()) #return the items in the dictionary\n",
    "print(grades.items()) #return both key and item in the dictionary"
   ]
  },
  {
   "cell_type": "markdown",
   "metadata": {},
   "source": [
    "You can also determine if a specific key exist in the dictionary."
   ]
  },
  {
   "cell_type": "code",
   "execution_count": null,
   "metadata": {},
   "outputs": [],
   "source": [
    "print(\"Jen\" in grades)"
   ]
  },
  {
   "cell_type": "markdown",
   "metadata": {},
   "source": [
    "Using for in loop in the dictionary"
   ]
  },
  {
   "cell_type": "code",
   "execution_count": null,
   "metadata": {},
   "outputs": [],
   "source": [
    "for grade in grades:\n",
    "    print(grade, \"grade is\", grades[grade])"
   ]
  },
  {
   "cell_type": "markdown",
   "metadata": {},
   "source": [
    "### <font color = 'green'>Test yourself</font>"
   ]
  },
  {
   "cell_type": "code",
   "execution_count": 22,
   "metadata": {},
   "outputs": [
    {
     "name": "stdout",
     "output_type": "stream",
     "text": [
      "Enter your name: John Marlon V. Montera\n",
      "Enter your grade: 92\n",
      "Do you want to add another student?(yes/no)yes\n",
      "Enter your name: Aerbhert John Sanchez\n",
      "Enter your grade: 95\n",
      "Do you want to add another student?(yes/no)no\n",
      "John Marlon V. Montera you have a grade of:  92\n",
      "Aerbhert John Sanchez you have a grade of:  95\n",
      "{'John Marlon V. Montera': 92, 'Aerbhert John Sanchez': 95}\n",
      "Highest Aerbhert John Sanchez\n",
      "Lowest John Marlon V. Montera\n"
     ]
    }
   ],
   "source": [
    "# Accept student name and grade and save it to a dictionary.\n",
    "# Display the content of the dictionary.\n",
    "# Display the name  and grade of student with the highest and lowest grade.\n",
    "\n",
    "student = {}\n",
    "def highlow(list):\n",
    "    return sum(list)/len(list)\n",
    "while True:\n",
    "    name = input(\"Enter your name: \")\n",
    "    grade = int(input(\"Enter your grade: \"))\n",
    "    \n",
    "    student[name] = grade\n",
    "    \n",
    "    additional = input(\"Do you want to add another student?\"\"(yes/no)\")\n",
    "    if additional == \"no\":\n",
    "        break\n",
    "for name, grade in student.items():\n",
    "    print(name, \"you have a grade of: \", grade)\n",
    "    \n",
    "highest = max(student,key=student.get)\n",
    "lowest = min(student,key=student.get)\n",
    "print(student)\n",
    "print('Highest', highest)\n",
    "print('Lowest', lowest)"
   ]
  },
  {
   "cell_type": "markdown",
   "metadata": {},
   "source": [
    "### <font color = 'blue'>Tuples</font>"
   ]
  },
  {
   "cell_type": "markdown",
   "metadata": {},
   "source": [
    "A tuple is a collection which is ordered and **unchangeable**. In Python tuples are written with round brackets. "
   ]
  },
  {
   "cell_type": "code",
   "execution_count": null,
   "metadata": {},
   "outputs": [],
   "source": [
    "fruits = (\"apple\", \"orange\", \"grapes\", \"cherry\")\n",
    "print (fruits)"
   ]
  },
  {
   "cell_type": "code",
   "execution_count": null,
   "metadata": {},
   "outputs": [],
   "source": [
    "print(fruits[2]) #access the item in the tuple"
   ]
  },
  {
   "cell_type": "code",
   "execution_count": null,
   "metadata": {},
   "outputs": [],
   "source": [
    "fruits[2] = \"banana\" #error; tuples cannot be changed."
   ]
  },
  {
   "cell_type": "markdown",
   "metadata": {},
   "source": [
    "### <font color = 'blue'>Sets</font>"
   ]
  },
  {
   "cell_type": "markdown",
   "metadata": {},
   "source": [
    "A set is a collection which is unordered and unindexed. In Python sets are \n",
    "written with curly brackets"
   ]
  },
  {
   "cell_type": "code",
   "execution_count": null,
   "metadata": {},
   "outputs": [],
   "source": [
    "fruit1 = {\"apple\", \"orange\",\"banana\"}\n",
    "fruit2 = {\"guava\",\"apple\",\"orange\"}\n",
    "print(fruit1)\n",
    "print(fruit2)"
   ]
  },
  {
   "cell_type": "code",
   "execution_count": null,
   "metadata": {},
   "outputs": [],
   "source": [
    "result = fruit1.intersection(fruit2) #return a set, that is the intersection of two sets.\n",
    "print(result)"
   ]
  },
  {
   "cell_type": "code",
   "execution_count": null,
   "metadata": {},
   "outputs": [],
   "source": [
    "result = fruit1.difference(fruit2)\n",
    "print(result)"
   ]
  },
  {
   "cell_type": "code",
   "execution_count": null,
   "metadata": {},
   "outputs": [],
   "source": [
    "result = fruit1.symmetric_difference(fruit2)\n",
    "print(result)"
   ]
  },
  {
   "cell_type": "code",
   "execution_count": null,
   "metadata": {},
   "outputs": [],
   "source": [
    "result = fruit1.union(fruit2)\n",
    "print(result)"
   ]
  },
  {
   "cell_type": "markdown",
   "metadata": {},
   "source": [
    "### <font color = 'blue'>String</font>"
   ]
  },
  {
   "cell_type": "code",
   "execution_count": null,
   "metadata": {},
   "outputs": [],
   "source": [
    "x = \"Sample String\"\n",
    "print(x)"
   ]
  },
  {
   "cell_type": "code",
   "execution_count": null,
   "metadata": {},
   "outputs": [],
   "source": [
    "print(x[2])"
   ]
  },
  {
   "cell_type": "code",
   "execution_count": null,
   "metadata": {},
   "outputs": [],
   "source": [
    "print(x[2:5])"
   ]
  },
  {
   "cell_type": "code",
   "execution_count": null,
   "metadata": {},
   "outputs": [],
   "source": [
    "print(\"i\" in x)"
   ]
  },
  {
   "cell_type": "code",
   "execution_count": null,
   "metadata": {},
   "outputs": [],
   "source": [
    "print(len(x))\n",
    "print(x.lower())\n",
    "print(x.upper())\n",
    "print(x.replace(\"e\",\"i\"))\n",
    "print(x.find(\"v\"))"
   ]
  },
  {
   "cell_type": "code",
   "execution_count": null,
   "metadata": {},
   "outputs": [],
   "source": [
    "s = \"China,Indonesia,Philippines\"\n",
    "a = s.split(\",\")\n",
    "print(a)"
   ]
  },
  {
   "cell_type": "markdown",
   "metadata": {},
   "source": [
    "### <font color = 'green'>Test yourself</font>"
   ]
  },
  {
   "cell_type": "code",
   "execution_count": 23,
   "metadata": {},
   "outputs": [
    {
     "name": "stdout",
     "output_type": "stream",
     "text": [
      "\t\t ************\n",
      "\t\t String Input\n",
      "\t\t ************\n",
      "\t\n",
      "Please input a string: Jane\n",
      "Jane\n",
      "\n",
      "J\n",
      "a\n",
      "n\n",
      "e\n",
      "Total Number of Characters in this string =  4\n"
     ]
    }
   ],
   "source": [
    "# Accept string input.\n",
    "# Display each charter of the string (vertical order)\n",
    "# Count and display total i charter in the string.\n",
    "\n",
    "print(\"\\t\\t ************\")\n",
    "print(\"\\t\\t String Input\")\n",
    "print(\"\\t\\t ************\")\n",
    "print(\"\\t\")\n",
    "str_name = (input(\"Please input a string: \"))\n",
    "total = 0\n",
    "for a in str_name:\n",
    "    print(a, end ='')\n",
    "print(\"\\n\")\n",
    "\n",
    "str_name = (str_name)\n",
    "\n",
    "for a in range(0, len(str_name)):\n",
    "    print(str_name[a])\n",
    "for i in str_name:\n",
    "    total = total + 1\n",
    "\n",
    "print(\"Total Number of Characters in this string = \",total)"
   ]
  },
  {
   "cell_type": "code",
   "execution_count": 25,
   "metadata": {},
   "outputs": [
    {
     "name": "stdout",
     "output_type": "stream",
     "text": [
      "\t\t *******************\n",
      "\t\t Vowel and Consonant\n",
      "\t\t *******************\n",
      "\t\n",
      "Please input a string: RAINBOW\n",
      "Vowels: 3\n",
      "Consonant: 4\n",
      "WOBNIAR\n"
     ]
    }
   ],
   "source": [
    "# Accept string input.\n",
    "# Count vowel and consonant characters in the string.\n",
    "# Display the string in reverse order.\n",
    "\n",
    "print(\"\\t\\t *******************\")\n",
    "print(\"\\t\\t Vowel and Consonant\")\n",
    "print(\"\\t\\t *******************\")\n",
    "print(\"\\t\")\n",
    "character = (input(\"Please input a string: \"))\n",
    "vowels = 0\n",
    "consonant = 0\n",
    "\n",
    "a = (character.lower())\n",
    "for x in a:    \n",
    "    if (x == \"a\" or x == \"e\" or x == \"i\" or x == \"o\" or x == \"u\"):\n",
    "        vowels += 1\n",
    "    else:\n",
    "        consonant += 1\n",
    "     \n",
    "str = character[::-1]  \n",
    "\n",
    "print(\"Vowels:\", vowels)\n",
    "print(\"Consonant:\", consonant)\n",
    "print(str)\n"
   ]
  },
  {
   "cell_type": "code",
   "execution_count": 45,
   "metadata": {},
   "outputs": [
    {
     "name": "stdout",
     "output_type": "stream",
     "text": [
      "\t\t *****************\n",
      "\t\t Palindrome or not\n",
      "\t\t *****************\n",
      "\t\n",
      "Please input a string: RACECAR\n",
      "Yes, the word is a palindrome.\n"
     ]
    }
   ],
   "source": [
    "# Accept string input.\n",
    "# Display if the string is Palindrome or Not a Palindrome\n",
    "\n",
    "print(\"\\t\\t *****************\")\n",
    "print(\"\\t\\t Palindrome or not\")\n",
    "print(\"\\t\\t *****************\")\n",
    "print(\"\\t\")\n",
    "Palindrome = (input(\"Please input a string: \"))\n",
    "def isPalindrome(Palindrome):\n",
    "    return Palindrome == Palindrome[::-1]\n",
    "\n",
    "ans = isPalindrome(Palindrome)\n",
    "\n",
    "if ans:\n",
    "    print(\"Yes, the word is a palindrome.\")\n",
    "else:\n",
    "    print(\"No, the word is not a palindrome.\")"
   ]
  },
  {
   "cell_type": "markdown",
   "metadata": {},
   "source": [
    "### <font color = 'blue'>Function</font>"
   ]
  },
  {
   "cell_type": "markdown",
   "metadata": {},
   "source": [
    "A function is a block of code which only runs when it is called.\n",
    "\n",
    "You can pass data, known as parameters, into a function.\n",
    "\n",
    "A function can return data as a result.\n",
    "\n",
    "A function is like mini-program within a program. Defining a function makes your program more ogranize and you can re-use it in any part of your program. Use the <b><i>def</b></i> keyword to define a function. The following program define a function with two parameters."
   ]
  },
  {
   "cell_type": "code",
   "execution_count": null,
   "metadata": {},
   "outputs": [],
   "source": [
    "def my_function():\n",
    "  print(\"Hello from a function\")\n",
    "\n",
    "def greet(name):\n",
    "    print(\"Hello\",name)\n",
    "\n",
    "def main():\n",
    "    my_function()\n",
    "    n = input(\"Enter your name: \")\n",
    "    greet(n)\n",
    "\n",
    "main()"
   ]
  },
  {
   "cell_type": "code",
   "execution_count": null,
   "metadata": {},
   "outputs": [],
   "source": [
    "def sum (n1,n2):\n",
    "    result = n1 + n2\n",
    "    print (\"The sum of\",n1,\"and\",n2,\"is\",result)\n",
    "\n",
    "def main ():\n",
    "    a = eval(input(\"Enter the first number : \"))\n",
    "    b = eval(input(\"Enter the second number : \"))\n",
    "    sum(a,b)\n",
    "\n",
    "main()"
   ]
  },
  {
   "cell_type": "markdown",
   "metadata": {},
   "source": [
    "Use the <b><i>return</b></i> keyword if you want your function to return a value. "
   ]
  },
  {
   "cell_type": "code",
   "execution_count": null,
   "metadata": {},
   "outputs": [],
   "source": [
    "def difference (n1,n2):\n",
    "    return n1 - n2\n",
    "   \n",
    "def main ():\n",
    "    a = eval(input(\"Enter the first number : \"))\n",
    "    b = eval(input(\"Enter the second number : \"))\n",
    "    print(\"The difference of\",a,\"and\",b,\"is\",difference(a,b))\n",
    "\n",
    "main()"
   ]
  },
  {
   "cell_type": "code",
   "execution_count": null,
   "metadata": {},
   "outputs": [],
   "source": []
  }
 ],
 "metadata": {
  "kernelspec": {
   "display_name": "Python 3",
   "language": "python",
   "name": "python3"
  },
  "language_info": {
   "codemirror_mode": {
    "name": "ipython",
    "version": 3
   },
   "file_extension": ".py",
   "mimetype": "text/x-python",
   "name": "python",
   "nbconvert_exporter": "python",
   "pygments_lexer": "ipython3",
   "version": "3.10.4 (tags/v3.10.4:9d38120, Mar 23 2022, 23:13:41) [MSC v.1929 64 bit (AMD64)]"
  },
  "vscode": {
   "interpreter": {
    "hash": "26de051ba29f2982a8de78e945f0abaf191376122a1563185a90213a26c5da77"
   }
  }
 },
 "nbformat": 4,
 "nbformat_minor": 2
}
