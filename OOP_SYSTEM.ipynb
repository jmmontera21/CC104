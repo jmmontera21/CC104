{
 "cells": [
  {
   "cell_type": "markdown",
   "id": "db8a899b",
   "metadata": {},
   "source": [
    "# BANKING SYSTEM"
   ]
  },
  {
   "cell_type": "code",
   "execution_count": 1,
   "id": "5802b982",
   "metadata": {},
   "outputs": [],
   "source": [
    "class bank:\n",
    "    def __init__(self, name, balance = 0):\n",
    "        self.name = name\n",
    "        self.balance = balance\n",
    "    def n_name(self):\n",
    "        print(\"Hi there,\",self.name)\n",
    "    def checkbal(self):\n",
    "        print(\"My balance is\", self.balance)\n",
    "    def deposit(self,cash):\n",
    "        self.balance = self.balance + cash\n",
    "    def withdraw(self,cash):\n",
    "        if self.balance < cash:\n",
    "            print(\"Insufficient balance!\")\n",
    "        elif self.balance == o:\n",
    "            print(\"No balance\")\n",
    "        else:\n",
    "            self.balance = self.balance - cash"
   ]
  },
  {
   "cell_type": "code",
   "execution_count": 3,
   "id": "93e23f22",
   "metadata": {},
   "outputs": [
    {
     "ename": "NameError",
     "evalue": "name 'bank' is not defined",
     "output_type": "error",
     "traceback": [
      "\u001b[1;31m---------------------------------------------------------------------------\u001b[0m",
      "\u001b[1;31mNameError\u001b[0m                                 Traceback (most recent call last)",
      "\u001b[1;32m~\\AppData\\Local\\Temp/ipykernel_20580/906132335.py\u001b[0m in \u001b[0;36m<module>\u001b[1;34m\u001b[0m\n\u001b[1;32m----> 1\u001b[1;33m \u001b[0ma\u001b[0m \u001b[1;33m=\u001b[0m \u001b[0mbank\u001b[0m\u001b[1;33m(\u001b[0m\u001b[1;34m\"Marlon\"\u001b[0m\u001b[1;33m,\u001b[0m \u001b[1;36m1000\u001b[0m\u001b[1;33m)\u001b[0m\u001b[1;33m\u001b[0m\u001b[1;33m\u001b[0m\u001b[0m\n\u001b[0m\u001b[0;32m      2\u001b[0m \u001b[0ma\u001b[0m\u001b[1;33m.\u001b[0m\u001b[0mcheckbal\u001b[0m\u001b[1;33m(\u001b[0m\u001b[1;33m)\u001b[0m\u001b[1;33m\u001b[0m\u001b[1;33m\u001b[0m\u001b[0m\n\u001b[0;32m      3\u001b[0m \u001b[0ma\u001b[0m\u001b[1;33m.\u001b[0m\u001b[0mdeposit\u001b[0m\u001b[1;33m(\u001b[0m\u001b[1;36m1200\u001b[0m\u001b[1;33m)\u001b[0m\u001b[1;33m\u001b[0m\u001b[1;33m\u001b[0m\u001b[0m\n\u001b[0;32m      4\u001b[0m \u001b[0ma\u001b[0m\u001b[1;33m.\u001b[0m\u001b[0mcheckbal\u001b[0m\u001b[1;33m(\u001b[0m\u001b[1;33m)\u001b[0m\u001b[1;33m\u001b[0m\u001b[1;33m\u001b[0m\u001b[0m\n",
      "\u001b[1;31mNameError\u001b[0m: name 'bank' is not defined"
     ]
    }
   ],
   "source": [
    "a = bank(\"Marlon\", 1000) \n",
    "a.checkbal()\n",
    "a.deposit(1200)\n",
    "a.checkbal()\n"
   ]
  },
  {
   "cell_type": "code",
   "execution_count": 4,
   "id": "41e9127e",
   "metadata": {},
   "outputs": [
    {
     "ename": "SyntaxError",
     "evalue": "invalid syntax (Temp/ipykernel_20580/925565019.py, line 8)",
     "output_type": "error",
     "traceback": [
      "\u001b[1;36m  File \u001b[1;32m\"C:\\Users\\RLF\\AppData\\Local\\Temp/ipykernel_20580/925565019.py\"\u001b[1;36m, line \u001b[1;32m8\u001b[0m\n\u001b[1;33m    print(\"Hello, \",c_name,\"You ordered a \",t_pizza,\"pizza. It is cost as much as \",s_pizza * 20,\"and the delivery time would be\",d_pizza * 5\"minutes\")\u001b[0m\n\u001b[1;37m                                                                                                                                             ^\u001b[0m\n\u001b[1;31mSyntaxError\u001b[0m\u001b[1;31m:\u001b[0m invalid syntax\n"
     ]
    }
   ],
   "source": [
    "class pizza:\n",
    "    def __init__(self, c_name, t_pizza, s_pizza, d_pizza):\n",
    "        self.c_name = c_name\n",
    "        self.t_pizza = t_pizza\n",
    "        self.s_pizza = s_pizza\n",
    "        self.d_pizza = d_pizza\n",
    "    def processOrder(self):\n",
    "        print(\"Hello, \",c_name,\"You ordered a \",t_pizza,\"pizza. It is cost as much as \",s_pizza * 20,\"and the delivery time would be\",d_pizza * 5\"minutes\")\n",
    "        \n"
   ]
  },
  {
   "cell_type": "code",
   "execution_count": null,
   "id": "02a9f87d",
   "metadata": {},
   "outputs": [],
   "source": []
  },
  {
   "cell_type": "code",
   "execution_count": null,
   "id": "6468597e",
   "metadata": {},
   "outputs": [],
   "source": []
  }
 ],
 "metadata": {
  "kernelspec": {
   "display_name": "Python 3 (ipykernel)",
   "language": "python",
   "name": "python3"
  },
  "language_info": {
   "codemirror_mode": {
    "name": "ipython",
    "version": 3
   },
   "file_extension": ".py",
   "mimetype": "text/x-python",
   "name": "python",
   "nbconvert_exporter": "python",
   "pygments_lexer": "ipython3",
   "version": "3.9.7"
  }
 },
 "nbformat": 4,
 "nbformat_minor": 5
}
